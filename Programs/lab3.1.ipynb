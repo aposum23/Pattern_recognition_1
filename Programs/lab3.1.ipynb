{
 "cells": [
  {
   "cell_type": "markdown",
   "metadata": {},
   "source": [
    "# Лабораторная работа 3.1"
   ]
  },
  {
   "cell_type": "markdown",
   "metadata": {},
   "source": [
    "## Счастливый билетик\n",
    "\n",
    "![](http://f2.mylove.ru/UNiHT7dRJ4.jpg)\n",
    "\n",
    "Билет считается счастливым, если выполнено следующее условие: сумма первых трёх цифр номера равна сумме последних трёх цифр.\n",
    "\n",
    "**Задание:**\n",
    "\n",
    "1) Определите число `ticket_number` — шестизначный номер билета;\n",
    "\n",
    "2) Напишите код, который по шестизначному номеру `ticket_number` билетика проверяет, является ли он счастливым;\n",
    "\n",
    "3) Если номер счастливый, выведите строку `Yes`, иначе — `No`.\n",
    "\n",
    "---\n",
    "\n",
    "**Пример 1:**\n",
    "\n",
    "*Input:* 123456\n",
    "\n",
    "*Output:* No\n",
    "\n",
    "\n",
    "**Пример 2:**\n",
    "\n",
    "*Input:* 123042\n",
    "\n",
    "*Output:* Yes"
   ]
  },
  {
   "cell_type": "code",
   "execution_count": 3,
   "metadata": {},
   "outputs": [],
   "source": [
    "ticket_number = 123501"
   ]
  },
  {
   "cell_type": "code",
   "execution_count": 4,
   "metadata": {},
   "outputs": [
    {
     "name": "stdout",
     "output_type": "stream",
     "text": [
      "Yes\n"
     ]
    }
   ],
   "source": [
    "ticket_number = list(map(int, str(ticket_number)))\n",
    "ticket_first_part = ticket_number[0::3]\n",
    "ticket_second_part = ticket_number[3::]\n",
    "first_sum = sum(ticket_first_part)\n",
    "second_sum = sum(ticket_second_part)\n",
    "\n",
    "if first_sum == second_sum:\n",
    "    print('Yes')\n",
    "else:\n",
    "    print('No')"
   ]
  },
  {
   "cell_type": "markdown",
   "metadata": {},
   "source": [
    "## Пароль\n",
    "\n",
    "![](http://forum.ixbt.com/post.cgi?id=attach:77:14138:1341:1)\n",
    "\n",
    "Пусть пароль может содержать только латинские буквы, знаки препинания и цифры.\n",
    "\n",
    "Пароль считается надёжным, если удовлетворяет следующим условиям:\n",
    "- содержит буквы в разных регистрах;\n",
    "- содержит цифры;\n",
    "- содержит не менее `4` уникальных символов;\n",
    "- не содержит ваше имя латинницей, записанное буквами любых регистров (anna, iVan, ...).\n",
    "\n",
    "Иначе пароль считается слабым.\n",
    "\n",
    "**Задание:**\n",
    "\n",
    "1) Определите строку `password` — придуманный вами пароль;\n",
    "\n",
    "2) Напишите код, который по паролю `password` проверяет, является ли он надёжным;\n",
    "\n",
    "3) Если пароль надёжный, выведите строку `strong`, иначе — `weak`.\n",
    "\n",
    "\n",
    "---\n",
    "\n",
    "Пусть имя пользоватея -- Андрей.\n",
    "\n",
    "**Пример 1:**\n",
    "\n",
    "*Input:* Aandrei123\n",
    "\n",
    "*Output:* weak\n",
    "\n",
    "\n",
    "**Пример 2:**\n",
    "\n",
    "*Input:* an12dRei\n",
    "\n",
    "*Output:* strong"
   ]
  },
  {
   "cell_type": "code",
   "execution_count": 24,
   "metadata": {},
   "outputs": [],
   "source": [
    "password = 'an12dRei'"
   ]
  },
  {
   "cell_type": "code",
   "execution_count": 25,
   "metadata": {},
   "outputs": [
    {
     "name": "stdout",
     "output_type": "stream",
     "text": [
      "1\n",
      "5\n",
      "2\n"
     ]
    }
   ],
   "source": [
    "upper_case = 0\n",
    "lower_case = 0\n",
    "number = 0\n",
    "\n",
    "for i in password:\n",
    "    if i.isupper():\n",
    "        upper_case += 1\n",
    "    elif i.islower():\n",
    "        lower_case += 1\n",
    "    elif i.isdigit():\n",
    "        number += 1"
   ]
  },
  {
   "cell_type": "code",
   "execution_count": 26,
   "metadata": {},
   "outputs": [
    {
     "name": "stdout",
     "output_type": "stream",
     "text": [
      "Good\n"
     ]
    }
   ],
   "source": [
    "if len (set(password)) >= 4:\n",
    "    if upper_case > 0 and lower_case > 0 and number > 0:\n",
    "        print(\"Good\")\n",
    "    else:\n",
    "        print(\"Too Weak\")\n",
    "else:\n",
    "    print(\"Too Weak\")"
   ]
  },
  {
   "cell_type": "markdown",
   "metadata": {},
   "source": [
    "## Числа Фибоначчи\n",
    "Как известно, [числа Фибоначчи](https://ru.wikipedia.org/wiki/%D0%A7%D0%B8%D1%81%D0%BB%D0%B0_%D0%A4%D0%B8%D0%B1%D0%BE%D0%BD%D0%B0%D1%87%D1%87%D0%B8) — это последовательность чисел, каждое из которых равно сумме двух предыдущих (первые два числа равны $1$):\n",
    "$$\n",
    "    1, 1, 2, 3, 5, 8, 13, \\ldots\n",
    "$$\n",
    "\n",
    "**Задание:**\n",
    "\n",
    "1) Определите число `amount` — количество чисел Фибоначчи, которые надо вывести;\n",
    "\n",
    "2) Напишите код, который выводит первые `amount` чисел Фибоначчи.\n",
    "\n",
    "---\n",
    "\n",
    "**Пример 1:**\n",
    "\n",
    "*Input:* 3\n",
    "\n",
    "*Output:* 1 1 2\n",
    "\n",
    "\n",
    "**Пример 2:**\n",
    "\n",
    "*Input:* 10\n",
    "\n",
    "*Output:* 1 1 2 3 5 8 13 21 34 55\n"
   ]
  },
  {
   "cell_type": "code",
   "execution_count": 31,
   "metadata": {},
   "outputs": [],
   "source": [
    "amount = 10"
   ]
  },
  {
   "cell_type": "code",
   "execution_count": 32,
   "metadata": {},
   "outputs": [
    {
     "name": "stdout",
     "output_type": "stream",
     "text": [
      "1\n",
      "1\n",
      "2\n",
      "3\n",
      "5\n",
      "8\n",
      "13\n",
      "21\n",
      "34\n",
      "55\n"
     ]
    }
   ],
   "source": [
    "fib1 = 1\n",
    "fib2 = 1\n",
    "print(fib1)\n",
    "print(fib2)\n",
    "i = 0\n",
    "while i < amount - 2:\n",
    "    fib_sum = fib1 + fib2\n",
    "    fib1 = fib2\n",
    "    fib2 = fib_sum\n",
    "    i = i + 1\n",
    "    print(fib2)\n",
    "    "
   ]
  },
  {
   "cell_type": "markdown",
   "metadata": {},
   "source": [
    "## Время исследований\n",
    "\n",
    "![](https://2.bp.blogspot.com/-VOT5x12UqPY/WSh53tQ94HI/AAAAAAAAAMY/-nlcz28_Fj4UzJjbn4bBINKCnzwag1W4QCLcB/s1600/my-pic-widget.jpg)\n",
    "\n",
    "На сайте https://www.kaggle.com/ выберите любой набор данных в формате CSV и проведите для него маленькое исследование: загрузите данные из набора с использованием стандартного модуля `csv`, посмотрите средние значения и стандартные отклонения двух выбранных числовых атрибутов, найдите [методом наименьших квадратов] (https://ru.wikipedia.org/wiki/%D0%9C%D0%B5%D1%82%D0%BE%D0%B4_%D0%BD%D0%B0%D0%B8%D0%BC%D0%B5%D0%BD%D1%8C%D1%88%D0%B8%D1%85_%D0%BA%D0%B2%D0%B0%D0%B4%D1%80%D0%B0%D1%82%D0%BE%D0%B2) уравнение линейной зависимости, связывающей один числовой атрибут с другим. Для оценки заданной зависимости найдите [коэффициент парной корреляции](https://ru.wikipedia.org/wiki/%D0%9A%D0%BE%D1%80%D1%80%D0%B5%D0%BB%D1%8F%D1%86%D0%B8%D1%8F), сделайте соответствующие выводы.\n",
    "\n",
    "**Результаты надо обязательно прокомментировать и пояснить!**\n",
    "\n",
    "---\n",
    "\n",
    "**Пример 1:**\n",
    "\n",
    "Пусть таблица `bikes.csv` содержит данные по арендам велосипедов за $2$ года:\n",
    "- `datetime`: дата и время аренды\n",
    "- `season`: время года\n",
    "- `temp`: температура воздуха по Цельсию\n",
    "- `windspeed`: скорость ветра \n",
    "- `registered`: число аренд\n",
    "\n",
    "Одно из направлений исследования могло бы заключаться в проверке зависимости суммарного числа аренд от температуры воздуха.\n",
    "(ДЕЛАТЬ ЭКСПОНЕНЦИАЛЬНУЮ)"
   ]
  },
  {
   "cell_type": "markdown",
   "metadata": {},
   "source": [
    "*в такой ячейке (режим Markdown) можно писать текст*"
   ]
  },
  {
   "cell_type": "code",
   "execution_count": 6,
   "metadata": {},
   "outputs": [
    {
     "data": {
      "image/png": "[encoded data removed]",
      "text/plain": [
       "<Figure size 432x288 with 1 Axes>"
      ]
     },
     "metadata": {
      "needs_background": "light"
     },
     "output_type": "display_data"
    },
    {
     "name": "stdout",
     "output_type": "stream",
     "text": [
      "Korelation is 1.0 \n",
      "\n",
      "x array: \n",
      " [100.0, 100.0, 100.0, 100.0, 100.0, 100.0, 100.0, 100.0, 100.0, 100.0, 100.0, 100.0, 100.0, 100.0, 100.0, 100.0, 100.0, 100.0, 100.0, 100.0, 100.0, 100.0, 100.0, 100.0, 100.0, 100.0, 100.0, 100.0, 100.0, 100.0, 100.0, 100.0, 100.0, 100.0, 100.0, 100.0, 100.0, 100.0, 100.0, 100.0, 100.0, 100.0, 100.0, 100.0, 100.0, 100.0, 100.0, 100.0, 100.0, 100.0, 100.0, 100.0, 100.0, 100.0, 100.0, 100.0, 100.0, 100.0, 100.0, 100.0, 100.0, 100.0, 100.0, 100.0, 100.0, 100.0, 100.0, 100.0, 100.0, 100.0, 100.0, 100.0, 100.0, 100.0, 100.0, 100.0, 100.0, 100.0, 100.0, 100.0, 100.0, 100.0, 100.0, 100.0, 100.0, 100.0, 100.0, 100.0, 100.0, 100.0, 100.0, 100.0, 100.0, 100.0, 100.0, 100.0, 100.0, 100.0, 100.0, 100.0, 100.0, 100.0, 100.0, 100.0, 100.0, 100.0, 100.0, 100.0, 100.0, 100.0, 100.0, 100.0, 100.0, 100.0, 100.0, 100.0, 100.0, 100.0, 100.0, 100.0, 100.0, 100.0, 100.0, 100.0, 100.0, 100.0, 100.0, 100.0, 100.0, 100.0, 100.0, 100.0, 100.0, 100.0, 100.0, 100.0, 100.0, 100.0, 100.0, 100.0, 100.0, 100.0, 100.0, 100.0, 100.0, 100.0, 100.0, 100.0, 100.0, 100.0, 100.0, 100.0, 100.0, 100.0, 100.0, 100.0, 100.0, 100.0, 100.0, 100.0, 100.0, 100.0, 100.0, 100.0, 100.0, 100.0, 100.0, 100.0, 100.0, 100.0, 100.0, 100.0, 100.0, 100.0, 100.0, 100.0, 100.0, 100.0, 100.0, 100.0, 100.0, 100.0, 100.0, 100.0, 100.0, 100.0, 100.0, 100.0, 100.0, 100.0, 100.0, 100.0, 100.0, 100.0, 100.0, 100.0, 100.0, 100.0, 100.0, 100.0, 100.0, 100.0, 100.0, 100.0, 100.0, 100.0, 100.0, 100.0, 100.0, 100.0, 100.0, 100.0, 100.0, 100.0, 100.0, 100.0, 100.0, 100.0, 100.0, 100.0, 100.0, 100.0, 100.0, 100.0, 100.0, 100.0, 100.0, 100.0, 100.0, 100.0, 100.0, 100.0, 100.0, 100.0, 100.0, 100.0, 100.0, 100.0, 100.0, 100.0, 100.0, 100.0, 100.0, 100.0, 100.0, 100.0, 100.0, 100.0, 100.0, 100.0, 100.0, 100.0, 100.0, 100.0, 100.0, 100.0, 100.0, 100.0, 100.0, 100.0, 100.0, 100.0, 100.0, 100.0, 100.0, 100.0, 100.0, 100.0, 100.0, 100.0, 100.0, 100.0, 100.0, 100.0, 100.0, 100.0, 100.0, 100.0, 100.0, 100.0, 100.0, 100.0, 100.0, 100.0, 100.0, 100.0, 100.0, 100.0, 100.0, 100.0, 100.0, 100.0, 100.0, 100.0, 100.0, 100.0, 100.0, 100.0, 100.0, 100.0, 100.0, 100.0, 100.0, 100.0, 100.0, 100.0, 100.0, 100.0, 100.0, 100.0, 100.0, 100.0, 100.0, 100.0, 100.0, 100.0, 100.0, 100.0, 100.0, 100.0, 100.0, 100.0, 100.0, 100.0, 100.0, 100.0, 100.0, 100.0, 100.0, 100.0, 100.0, 100.0, 100.0, 100.0, 100.0, 100.0, 100.0, 100.0, 100.0, 100.0, 100.0, 100.0, 100.0, 100.0, 100.0, 100.0, 100.0, 100.0, 100.0, 100.0, 100.0, 100.0, 100.0, 100.0, 100.0, 100.0, 100.0, 100.0, 100.0, 100.0, 100.0, 100.0, 100.0, 100.0, 100.0, 100.0, 100.0, 100.0, 100.0, 100.0, 100.0, 100.0, 100.0, 100.0, 100.0, 100.0, 100.0, 100.0, 100.0, 100.0, 100.0, 100.0, 100.0, 100.0, 100.0, 100.0, 100.0, 100.0, 100.0, 100.0, 100.0, 100.0, 100.0, 100.0, 100.0, 100.0, 100.0, 100.0, 100.0, 100.0, 100.0, 100.0, 100.0, 100.0, 100.0, 100.0, 100.0, 100.0, 100.0, 100.0, 100.0, 100.0, 100.0, 100.0, 100.0, 100.0, 100.0, 100.0, 100.0, 100.0, 100.0, 100.0, 100.0, 100.0, 100.0, 100.0, 100.0, 100.0, 100.0, 100.0, 100.0, 100.0, 100.0, 100.0, 100.0, 100.0, 100.0, 100.0, 100.0, 100.0, 100.0, 100.0, 100.0, 100.0, 100.0, 100.0, 100.0, 100.0, 100.0, 100.0, 100.0, 100.0, 100.0, 100.0, 100.0, 100.0, 100.0, 100.0, 100.0, 100.0, 100.0, 100.0, 100.0, 100.0, 100.0, 100.0, 100.0, 100.0, 100.0, 100.0, 100.0, 100.0, 100.0, 100.0, 100.0, 100.0, 100.0, 100.0, 100.0, 100.0, 100.0, 100.0, 100.0, 100.0, 100.0, 100.0, 100.0, 100.0, 100.0, 100.0, 100.0, 100.0, 100.0, 100.0, 100.0, 100.0, 100.0, 100.0, 100.0, 100.0, 100.0, 100.0, 100.0, 100.0, 100.0, 100.0, 100.0, 198.0, 198.0, 198.0, 198.0, 198.0, 198.0, 198.0, 198.0, 198.0, 198.0, 198.0, 198.0, 198.0, 198.0, 198.0, 198.0, 198.0, 927.0] \n",
      "\n",
      "y s zagagulinoy array: \n",
      " [4.036780822780577e-54, 4.036780822780577e-54, 4.036780822780577e-54, 4.036780822780577e-54, 4.036780822780577e-54, 4.036780822780577e-54, 4.036780822780577e-54, 4.036780822780577e-54, 4.036780822780577e-54, 4.036780822780577e-54, 4.036780822780577e-54, 4.036780822780577e-54, 4.036780822780577e-54, 4.036780822780577e-54, 4.036780822780577e-54, 4.036780822780577e-54, 4.036780822780577e-54, 4.036780822780577e-54, 4.036780822780577e-54, 4.036780822780577e-54, 4.036780822780577e-54, 4.036780822780577e-54, 4.036780822780577e-54, 4.036780822780577e-54, 4.036780822780577e-54, 4.036780822780577e-54, 4.036780822780577e-54, 4.036780822780577e-54, 4.036780822780577e-54, 4.036780822780577e-54, 4.036780822780577e-54, 4.036780822780577e-54, 4.036780822780577e-54, 4.036780822780577e-54, 4.036780822780577e-54, 4.036780822780577e-54, 4.036780822780577e-54, 4.036780822780577e-54, 4.036780822780577e-54, 4.036780822780577e-54, 4.036780822780577e-54, 4.036780822780577e-54, 4.036780822780577e-54, 4.036780822780577e-54, 4.036780822780577e-54, 4.036780822780577e-54, 4.036780822780577e-54, 4.036780822780577e-54, 4.036780822780577e-54, 4.036780822780577e-54, 4.036780822780577e-54, 4.036780822780577e-54, 4.036780822780577e-54, 4.036780822780577e-54, 4.036780822780577e-54, 4.036780822780577e-54, 4.036780822780577e-54, 4.036780822780577e-54, 4.036780822780577e-54, 4.036780822780577e-54, 4.036780822780577e-54, 4.036780822780577e-54, 4.036780822780577e-54, 4.036780822780577e-54, 4.036780822780577e-54, 4.036780822780577e-54, 4.036780822780577e-54, 4.036780822780577e-54, 4.036780822780577e-54, 4.036780822780577e-54, 4.036780822780577e-54, 4.036780822780577e-54, 4.036780822780577e-54, 4.036780822780577e-54, 4.036780822780577e-54, 4.036780822780577e-54, 4.036780822780577e-54, 4.036780822780577e-54, 4.036780822780577e-54, 4.036780822780577e-54, 4.036780822780577e-54, 4.036780822780577e-54, 4.036780822780577e-54, 4.036780822780577e-54, 4.036780822780577e-54, 4.036780822780577e-54, 4.036780822780577e-54, 4.036780822780577e-54, 4.036780822780577e-54, 4.036780822780577e-54, 4.036780822780577e-54, 4.036780822780577e-54, 4.036780822780577e-54, 4.036780822780577e-54, 4.036780822780577e-54, 4.036780822780577e-54, 4.036780822780577e-54, 4.036780822780577e-54, 4.036780822780577e-54, 4.036780822780577e-54, 4.036780822780577e-54, 4.036780822780577e-54, 4.036780822780577e-54, 4.036780822780577e-54, 4.036780822780577e-54, 4.036780822780577e-54, 4.036780822780577e-54, 4.036780822780577e-54, 4.036780822780577e-54, 4.036780822780577e-54, 4.036780822780577e-54, 4.036780822780577e-54, 4.036780822780577e-54, 4.036780822780577e-54, 4.036780822780577e-54, 4.036780822780577e-54, 4.036780822780577e-54, 4.036780822780577e-54, 4.036780822780577e-54, 4.036780822780577e-54, 4.036780822780577e-54, 4.036780822780577e-54, 4.036780822780577e-54, 4.036780822780577e-54, 4.036780822780577e-54, 4.036780822780577e-54, 4.036780822780577e-54, 4.036780822780577e-54, 4.036780822780577e-54, 4.036780822780577e-54, 4.036780822780577e-54, 4.036780822780577e-54, 4.036780822780577e-54, 4.036780822780577e-54, 4.036780822780577e-54, 4.036780822780577e-54, 4.036780822780577e-54, 4.036780822780577e-54, 4.036780822780577e-54, 4.036780822780577e-54, 4.036780822780577e-54, 4.036780822780577e-54, 4.036780822780577e-54, 4.036780822780577e-54, 4.036780822780577e-54, 4.036780822780577e-54, 4.036780822780577e-54, 4.036780822780577e-54, 4.036780822780577e-54, 4.036780822780577e-54, 4.036780822780577e-54, 4.036780822780577e-54, 4.036780822780577e-54, 4.036780822780577e-54, 4.036780822780577e-54, 4.036780822780577e-54, 4.036780822780577e-54, 4.036780822780577e-54, 4.036780822780577e-54, 4.036780822780577e-54, 4.036780822780577e-54, 4.036780822780577e-54, 4.036780822780577e-54, 4.036780822780577e-54, 4.036780822780577e-54, 4.036780822780577e-54, 4.036780822780577e-54, 4.036780822780577e-54, 4.036780822780577e-54, 4.036780822780577e-54, 4.036780822780577e-54, 4.036780822780577e-54, 4.036780822780577e-54, 4.036780822780577e-54, 4.036780822780577e-54, 4.036780822780577e-54, 4.036780822780577e-54, 4.036780822780577e-54, 4.036780822780577e-54, 4.036780822780577e-54, 4.036780822780577e-54, 4.036780822780577e-54, 4.036780822780577e-54, 4.036780822780577e-54, 4.036780822780577e-54, 4.036780822780577e-54, 4.036780822780577e-54, 4.036780822780577e-54, 4.036780822780577e-54, 4.036780822780577e-54, 4.036780822780577e-54, 4.036780822780577e-54, 4.036780822780577e-54, 4.036780822780577e-54, 4.036780822780577e-54, 4.036780822780577e-54, 4.036780822780577e-54, 4.036780822780577e-54, 4.036780822780577e-54, 4.036780822780577e-54, 4.036780822780577e-54, 4.036780822780577e-54, 4.036780822780577e-54, 4.036780822780577e-54, 4.036780822780577e-54, 4.036780822780577e-54, 4.036780822780577e-54, 4.036780822780577e-54, 4.036780822780577e-54, 4.036780822780577e-54, 4.036780822780577e-54, 4.036780822780577e-54, 4.036780822780577e-54, 4.036780822780577e-54, 4.036780822780577e-54, 4.036780822780577e-54, 4.036780822780577e-54, 4.036780822780577e-54, 4.036780822780577e-54, 4.036780822780577e-54, 4.036780822780577e-54, 4.036780822780577e-54, 4.036780822780577e-54, 4.036780822780577e-54, 4.036780822780577e-54, 4.036780822780577e-54, 4.036780822780577e-54, 4.036780822780577e-54, 4.036780822780577e-54, 4.036780822780577e-54, 4.036780822780577e-54, 4.036780822780577e-54, 4.036780822780577e-54, 4.036780822780577e-54, 4.036780822780577e-54, 4.036780822780577e-54, 4.036780822780577e-54, 4.036780822780577e-54, 4.036780822780577e-54, 4.036780822780577e-54, 4.036780822780577e-54, 4.036780822780577e-54, 4.036780822780577e-54, 4.036780822780577e-54, 4.036780822780577e-54, 4.036780822780577e-54, 4.036780822780577e-54, 4.036780822780577e-54, 4.036780822780577e-54, 4.036780822780577e-54, 4.036780822780577e-54, 4.036780822780577e-54, 4.036780822780577e-54, 4.036780822780577e-54, 4.036780822780577e-54, 4.036780822780577e-54, 4.036780822780577e-54, 4.036780822780577e-54, 4.036780822780577e-54, 4.036780822780577e-54, 4.036780822780577e-54, 4.036780822780577e-54, 4.036780822780577e-54, 4.036780822780577e-54, 4.036780822780577e-54, 4.036780822780577e-54, 4.036780822780577e-54, 4.036780822780577e-54, 4.036780822780577e-54, 4.036780822780577e-54, 4.036780822780577e-54, 4.036780822780577e-54, 4.036780822780577e-54, 4.036780822780577e-54, 4.036780822780577e-54, 4.036780822780577e-54, 4.036780822780577e-54, 4.036780822780577e-54, 4.036780822780577e-54, 4.036780822780577e-54, 4.036780822780577e-54, 4.036780822780577e-54, 4.036780822780577e-54, 4.036780822780577e-54, 4.036780822780577e-54, 4.036780822780577e-54, 4.036780822780577e-54, 4.036780822780577e-54, 4.036780822780577e-54, 4.036780822780577e-54, 4.036780822780577e-54, 4.036780822780577e-54, 4.036780822780577e-54, 4.036780822780577e-54, 4.036780822780577e-54, 4.036780822780577e-54, 4.036780822780577e-54, 4.036780822780577e-54, 4.036780822780577e-54, 4.036780822780577e-54, 4.036780822780577e-54, 4.036780822780577e-54, 4.036780822780577e-54, 4.036780822780577e-54, 4.036780822780577e-54, 4.036780822780577e-54, 4.036780822780577e-54, 4.036780822780577e-54, 4.036780822780577e-54, 4.036780822780577e-54, 4.036780822780577e-54, 4.036780822780577e-54, 4.036780822780577e-54, 4.036780822780577e-54, 4.036780822780577e-54, 4.036780822780577e-54, 4.036780822780577e-54, 4.036780822780577e-54, 4.036780822780577e-54, 4.036780822780577e-54, 4.036780822780577e-54, 4.036780822780577e-54, 4.036780822780577e-54, 4.036780822780577e-54, 4.036780822780577e-54, 4.036780822780577e-54, 4.036780822780577e-54, 4.036780822780577e-54, 4.036780822780577e-54, 4.036780822780577e-54, 4.036780822780577e-54, 4.036780822780577e-54, 4.036780822780577e-54, 4.036780822780577e-54, 4.036780822780577e-54, 4.036780822780577e-54, 4.036780822780577e-54, 4.036780822780577e-54, 4.036780822780577e-54, 4.036780822780577e-54, 4.036780822780577e-54, 4.036780822780577e-54, 4.036780822780577e-54, 4.036780822780577e-54, 4.036780822780577e-54, 4.036780822780577e-54, 4.036780822780577e-54, 4.036780822780577e-54, 4.036780822780577e-54, 4.036780822780577e-54, 4.036780822780577e-54, 4.036780822780577e-54, 4.036780822780577e-54, 4.036780822780577e-54, 4.036780822780577e-54, 4.036780822780577e-54, 4.036780822780577e-54, 4.036780822780577e-54, 4.036780822780577e-54, 4.036780822780577e-54, 4.036780822780577e-54, 4.036780822780577e-54, 4.036780822780577e-54, 4.036780822780577e-54, 4.036780822780577e-54, 4.036780822780577e-54, 4.036780822780577e-54, 4.036780822780577e-54, 4.036780822780577e-54, 4.036780822780577e-54, 4.036780822780577e-54, 4.036780822780577e-54, 4.036780822780577e-54, 4.036780822780577e-54, 4.036780822780577e-54, 4.036780822780577e-54, 4.036780822780577e-54, 4.036780822780577e-54, 4.036780822780577e-54, 4.036780822780577e-54, 4.036780822780577e-54, 4.036780822780577e-54, 4.036780822780577e-54, 4.036780822780577e-54, 4.036780822780577e-54, 4.036780822780577e-54, 4.036780822780577e-54, 4.036780822780577e-54, 4.036780822780577e-54, 4.036780822780577e-54, 4.036780822780577e-54, 4.036780822780577e-54, 4.036780822780577e-54, 4.036780822780577e-54, 4.036780822780577e-54, 4.036780822780577e-54, 4.036780822780577e-54, 4.036780822780577e-54, 4.036780822780577e-54, 4.036780822780577e-54, 4.036780822780577e-54, 4.036780822780577e-54, 4.036780822780577e-54, 4.036780822780577e-54, 4.036780822780577e-54, 4.036780822780577e-54, 4.036780822780577e-54, 4.036780822780577e-54, 4.036780822780577e-54, 4.036780822780577e-54, 4.036780822780577e-54, 4.036780822780577e-54, 4.036780822780577e-54, 4.036780822780577e-54, 4.036780822780577e-54, 4.036780822780577e-54, 4.036780822780577e-54, 4.036780822780577e-54, 4.036780822780577e-54, 4.036780822780577e-54, 4.036780822780577e-54, 4.036780822780577e-54, 4.036780822780577e-54, 4.036780822780577e-54, 4.036780822780577e-54, 4.036780822780577e-54, 4.036780822780577e-54, 4.036780822780577e-54, 4.036780822780577e-54, 4.036780822780577e-54, 4.036780822780577e-54, 4.036780822780577e-54, 4.036780822780577e-54, 4.036780822780577e-54, 4.036780822780577e-54, 4.036780822780577e-54, 4.036780822780577e-54, 4.036780822780577e-54, 4.036780822780577e-54, 4.036780822780577e-54, 4.036780822780577e-54, 4.036780822780577e-54, 4.036780822780577e-54, 4.036780822780577e-54, 4.036780822780577e-54, 4.036780822780577e-54, 4.036780822780577e-54, 4.036780822780577e-54, 4.036780822780577e-54, 4.036780822780577e-54, 4.036780822780577e-54, 4.036780822780577e-54, 4.036780822780577e-54, 4.036780822780577e-54, 4.036780822780577e-54, 4.036780822780577e-54, 4.036780822780577e-54, 4.036780822780577e-54, 4.036780822780577e-54, 4.036780822780577e-54, 4.036780822780577e-54, 4.036780822780577e-54, 4.036780822780577e-54, 4.036780822780577e-54, 4.036780822780577e-54, 4.036780822780577e-54, 4.036780822780577e-54, 4.036780822780577e-54, 4.036780822780577e-54, 4.036780822780577e-54, 4.036780822780577e-54, 4.036780822780577e-54, 4.036780822780577e-54, 4.036780822780577e-54, 4.036780822780577e-54, 4.036780822780577e-54, 4.036780822780577e-54, 4.036780822780577e-54, 4.036780822780577e-54, 4.036780822780577e-54, 4.036780822780577e-54, 4.036780822780577e-54, 4.036780822780577e-54, 4.036780822780577e-54, 4.036780822780577e-54, 4.036780822780577e-54, 4.036780822780577e-54, 4.036780822780577e-54, 4.036780822780577e-54, 4.036780822780577e-54, 4.036780822780577e-54, 4.036780822780577e-54, 4.036780822780577e-54, 4.036780822780577e-54, 4.036780822780577e-54, 4.036780822780577e-54, 4.036780822780577e-54, 4.036780822780577e-54, 4.036780822780577e-54, 4.036780822780577e-54, 4.036780822780577e-54, 4.036780822780577e-54, 4.036780822780577e-54, 4.036780822780577e-54, 4.036780822780577e-54, 4.036780822780577e-54, 4.036780822780577e-54, 3.0519408364525005e-44, 3.0519408364525005e-44, 3.0519408364525005e-44, 3.0519408364525005e-44, 3.0519408364525005e-44, 3.0519408364525005e-44, 3.0519408364525005e-44, 3.0519408364525005e-44, 3.0519408364525005e-44, 3.0519408364525005e-44, 3.0519408364525005e-44, 3.0519408364525005e-44, 3.0519408364525005e-44, 3.0519408364525005e-44, 3.0519408364525005e-44, 3.0519408364525005e-44, 3.0519408364525005e-44, 9.307317596131988e+29]\n"
     ]
    }
   ],
   "source": [
    "import csv\n",
    "import math\n",
    "import matplotlib.pyplot as plt\n",
    "\n",
    "\n",
    "def sum_elems(arr, field):\n",
    "    res = 0\n",
    "    for row in arr:\n",
    "        res += row[field]\n",
    "    return res\n",
    "\n",
    "\n",
    "def sred_znch(arr):\n",
    "    el_sum = 0\n",
    "    num = len(arr)\n",
    "    for el in arr:\n",
    "        el_sum += el\n",
    "    return el_sum / num\n",
    "\n",
    "\n",
    "def sum_1(y1, y2):\n",
    "    res = 0\n",
    "    for num, y in enumerate(y1):\n",
    "        res += math.pow(y - y2, 2)\n",
    "    return res\n",
    "\n",
    "\n",
    "def sort_by_x(arr1, arr2):\n",
    "    arr1 = arr1\n",
    "    arr2 = arr2\n",
    "    num = len(arr1)\n",
    "    for i in range(525):\n",
    "        j = 0\n",
    "        while j < num - 1:\n",
    "            if arr1[j] > arr1[j + 1]:\n",
    "                a = arr1[j]\n",
    "                arr1[j] = arr1[j + 1]\n",
    "                arr1[j + 1] = arr1[j]\n",
    "                a = arr2[j]\n",
    "                arr2[j] = arr2[j + 1]\n",
    "                arr2[j + 1] = arr2[j]\n",
    "            j += 1\n",
    "        j = num\n",
    "        while j < 1:\n",
    "            if arr1[j] < arr1[j - 1]:\n",
    "                a = arr1[j]\n",
    "                arr1[j] = arr1[j - 1]\n",
    "                arr1[j - 1] = arr1[j]\n",
    "                a = arr2[j]\n",
    "                arr2[j] = arr2[j - 1]\n",
    "                arr2[j - 1] = arr2[j]\n",
    "            j += 1\n",
    "    return arr1, arr2\n",
    "\n",
    "\n",
    "pre_results = []\n",
    "y_zagagulina = []\n",
    "y_znach = []\n",
    "x_plot = []\n",
    "with open('C:\\\\Users\\\\я\\\\Desktop\\\\Forza_Horizon_Cars.csv') as file:\n",
    "    dataset = csv.DictReader(file)\n",
    "    \n",
    "    for num, row in enumerate(dataset):\n",
    "        try:\n",
    "            x = float(row['Stock_Rating'])\n",
    "        except Exception as e:\n",
    "            continue\n",
    "        y = int(''.join(row['In_Game_Price'].split(',')))\n",
    "        xSqr = math.pow(x, 2)\n",
    "        if y > 0:\n",
    "            ln_y = math.log(y)\n",
    "        else:\n",
    "            continue\n",
    "        x_ln_y = x * ln_y\n",
    "        x_plot.append(x)\n",
    "        y_znach.append(y)\n",
    "        pre_results.append({'x': x, 'y': y, 'xSqr': xSqr, 'ln_y': ln_y, 'x_ln_y': x_ln_y})\n",
    "    sums = {'x': sum_elems(pre_results, 'x'),\n",
    "                    'y': sum_elems(pre_results, 'y'),\n",
    "                    'xSqr': sum_elems(pre_results, 'xSqr'),\n",
    "                    'ln_y': sum_elems(pre_results, 'ln_y'),\n",
    "                    'x_ln_y': sum_elems(pre_results, 'x_ln_y'),\n",
    "                    'n': len(pre_results)}\n",
    "    ln_a1 = (sums['n'] * sums['x_ln_y'] - sums['x'] - sums['ln_y']) /\\\n",
    "            (sums['n'] * sums['xSqr'] - math.pow(sums['x'], 2))\n",
    "    ln_a0 = 1 / sums['n'] * sums['ln_y'] - 1 / sums['n'] * ln_a1 * sums['x']\n",
    "    a1 = math.pow(math.e, ln_a1)\n",
    "    a0 = math.pow(math.e, ln_a0)\n",
    "    for row in pre_results:\n",
    "        y_zagagulina.append(a0 * math.pow(a1, row['x']))\n",
    "    x_arr, y_arr = sort_by_x(x_plot, y_zagagulina)\n",
    "    plt.plot(x_arr, y_arr)\n",
    "    plt.show()\n",
    "    sum1 = sum_1(y_znach, sred_znch(y_znach))\n",
    "    sum2 = sum_1(y_zagagulina, sred_znch(y_znach))\n",
    "    kor = 1 - (1 / sums['n'] * sum1) / (1 / sums['n'] * sum2)\n",
    "    print(f'Korelation is {kor} \\n')\n",
    "    print(f'x array: \\n {x_arr} \\n')\n",
    "    print(f'y s zagagulinoy array: \\n {y_arr}')\n"
   ]
  },
  {
   "cell_type": "markdown",
   "metadata": {},
   "source": [
    "Здесь должны быть кратко описаны результаты исследования и обнаруженых фактов.\n",
    "\n",
    "<h1>Результаты исследования датасета</h1>\n",
    "Производилось исследование зависимости цен машин в игре FORZA HORIZEN 5 от их начального рейтинга\n",
    "По итогу исследования мы узнали, что цена зависит от рейтинга на 100% так как коэфицент корреляции равен 1. так же при создании графика мы можем видеть, что цена растёт не прямопропорционально, чем выше рейтинг машины, темы больше разница цены автомобиля с предыдущим рейтингом. То-есть машина с рейтингом 800 будет иметь большую разницу в цене с машиной рейтинга 700, чем машина рейтинга 700 с рейтингом 600. Самые дорогии машины в игре имеют самый высокий рейтинг, который приближается к 1000\n",
    "\n",
    "..."
   ]
  },
  {
   "cell_type": "code",
   "execution_count": null,
   "metadata": {},
   "outputs": [],
   "source": []
  }
 ],
 "metadata": {
  "anaconda-cloud": {},
  "kernelspec": {
   "display_name": "Python 3 (ipykernel)",
   "language": "python",
   "name": "python3"
  },
  "language_info": {
   "codemirror_mode": {
    "name": "ipython",
    "version": 3
   },
   "file_extension": ".py",
   "mimetype": "text/x-python",
   "name": "python",
   "nbconvert_exporter": "python",
   "pygments_lexer": "ipython3",
   "version": "3.9.7"
  }
 },
 "nbformat": 4,
 "nbformat_minor": 1
}
