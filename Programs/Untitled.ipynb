{
 "cells": [
  {
   "cell_type": "markdown",
   "id": "920e34ca",
   "metadata": {},
   "source": [
    "<h1>Условие задачи:</h1>\n",
    "На склад поступает товар определённой стоимости за единицу. Произвести списание денежных средств со\n",
    "счета предприятия и записать товар на счет предприятия"
   ]
  },
  {
   "cell_type": "code",
   "execution_count": 4,
   "id": "8a53029f",
   "metadata": {},
   "outputs": [
    {
     "name": "stdout",
     "output_type": "stream",
     "text": [
      "<class '__main__.organization'>\n"
     ]
    }
   ],
   "source": [
    "class tovar_coast:\n",
    "    tovar1 = 5\n",
    "    tovar2 = 10\n",
    "    tovar3 = 1\n",
    "\n",
    "class organization:\n",
    "    money = 90000\n",
    "    tovar1 = 0\n",
    "    tovar2 = 0\n",
    "    tovar3 = 0\n",
    "            \n",
    "tovar = 1\n",
    "tovar_num = 30\n",
    "if tovar == 1:\n",
    "    coast = tovar_num * tovar_coast.tovar1\n",
    "    if coast <= organization.money:\n",
    "        organization.money -= coast\n",
    "        organization.tovar1 += coast\n",
    "        print(organization)\n",
    "    else:\n",
    "        print('Not enough money')\n",
    "elif tovar == 2:\n",
    "    coast = tovar_num * tovar_coast.tovar2\n",
    "    if coast <= organization.money:\n",
    "        organization.money -= coast\n",
    "        organization.tovar1 += coast\n",
    "        print(organization)\n",
    "    else:\n",
    "        print('Not enough money')\n",
    "else:\n",
    "    coast = tovar_num * tovar_coast.tovar3\n",
    "    if coast <= organization.money:\n",
    "        organization.money -= coast\n",
    "        organization.tovar1 += coast\n",
    "        print(organization)\n",
    "    else:\n",
    "        print('Not enough money')"
   ]
  },
  {
   "cell_type": "code",
   "execution_count": null,
   "id": "c08ae60c",
   "metadata": {},
   "outputs": [],
   "source": []
  }
 ],
 "metadata": {
  "kernelspec": {
   "display_name": "Python 3 (ipykernel)",
   "language": "python",
   "name": "python3"
  },
  "language_info": {
   "codemirror_mode": {
    "name": "ipython",
    "version": 3
   },
   "file_extension": ".py",
   "mimetype": "text/x-python",
   "name": "python",
   "nbconvert_exporter": "python",
   "pygments_lexer": "ipython3",
   "version": "3.9.7"
  }
 },
 "nbformat": 4,
 "nbformat_minor": 5
}
